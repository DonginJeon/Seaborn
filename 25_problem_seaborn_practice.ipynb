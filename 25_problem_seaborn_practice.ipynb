{
 "cells": [
  {
   "cell_type": "markdown",
   "metadata": {},
   "source": [
    "## [실습]\n",
    "\n",
    "### (1) Seaborn 데이터셋 목록\n",
    "\n",
    "- **anagrams**\n",
    "    피 실험자가 주의가 분산되거나 집중한 상태에서 아나그램을 얼마나 기억하는지에 대한 데이터\n",
    "- **anscombe**\n",
    "    \n",
    "- **attention**\n",
    "- **car_crashes**\n",
    "- **diamonds**\n",
    "- **dots**\n",
    "- **dowjones**\n",
    "- **exercise**\n",
    "- **fmri**\n",
    "- **geyser**\n",
    "- **glue**\n",
    "- **healthexp**\n",
    "- **iris**\n",
    "- **mpg**\n",
    "- **penguins**\n",
    "- **planets**\n",
    "- **seaice**\n",
    "- **taxis**\n",
    "- **tips**\n",
    "- **titanic**"
   ]
  },
  {
   "cell_type": "code",
   "execution_count": 1,
   "metadata": {},
   "outputs": [],
   "source": [
    "import seaborn as sns\n",
    "import matplotlib.pyplot as plt\n",
    "import pandas as pd"
   ]
  },
  {
   "cell_type": "code",
   "execution_count": 2,
   "metadata": {},
   "outputs": [
    {
     "name": "stdout",
     "output_type": "stream",
     "text": [
      "    subidr    attnr  num1  num2  num3\n",
      "0        1  divided     2   4.0     7\n",
      "1        2  divided     3   4.0     5\n",
      "2        3  divided     3   5.0     6\n",
      "3        4  divided     5   7.0     5\n",
      "4        5  divided     4   5.0     8\n",
      "5        6  divided     5   5.0     6\n",
      "6        7  divided     5   4.5     6\n",
      "7        8  divided     5   7.0     8\n",
      "8        9  divided     2   3.0     7\n",
      "9       10  divided     6   5.0     6\n",
      "10      11  focused     6   5.0     6\n",
      "11      12  focused     8   9.0     8\n",
      "12      13  focused     6   5.0     9\n",
      "13      14  focused     8   8.0     7\n",
      "14      15  focused     8   8.0     7\n",
      "15      16  focused     6   8.0     7\n",
      "16      17  focused     7   7.0     6\n",
      "17      18  focused     7   8.0     6\n",
      "18      19  focused     5   6.0     6\n",
      "19      20  focused     6   6.0     5\n"
     ]
    }
   ],
   "source": [
    "anagrams = sns.load_dataset(\"anagrams\")\n",
    "print(anagrams)\n",
    "anagrams = sns.load_dataset(\"anscombe\")\n",
    "print(anscombe)\n",
    "attention = sns.load_dataset(\"attention\")\n",
    "print(attention)\n",
    "car_crashes = sns.load_dataset(\"car_crashes\")\n",
    "print(car_crashes)\n",
    "dots = sns.load_dataset(\"dots\")\n",
    "print(dots)\n",
    "dowjones = sns.load_dataset(\"dowjones\")\n",
    "print(dowjones)\n",
    "exercise = sns.load_dataset(\"exercise\")\n",
    "print(exercise)\n",
    "fmri = sns.load_dataset(\"fmri\")\n",
    "print(fmri)\n",
    "geyser = sns.load_dataset(\"geyser\")\n",
    "print(geyser)\n",
    "glue = sns.load_dataset(\"glue\")\n",
    "print(glue)\n",
    "healthexp = sns.load_dataset(\"healthexp\")\n",
    "print(healthexp)\n",
    "iris = sns.load_dataset(\"iris\")\n",
    "print(iris)\n",
    "mpg = sns.load_dataset(\"mpg\")\n",
    "print(mpg)\n",
    "penguins = sns.load_dataset(\"penguins\")\n",
    "print(penguins)\n",
    "planets = sns.load_dataset(\"planets\")\n",
    "print(planets)\n",
    "seaice = sns.load_dataset(\"seaice\")\n",
    "print(seaice)\n",
    "taxis = sns.load_dataset(\"taxis\")\n",
    "print(taxis)\n",
    "tips = sns.load_dataset(\"tips\")\n",
    "print(taxis)\n",
    "titanic = sns.load_dataset(\"titanic\")\n",
    "print(titanic)"
   ]
  },
  {
   "cell_type": "code",
   "execution_count": null,
   "metadata": {},
   "outputs": [],
   "source": []
  },
  {
   "cell_type": "code",
   "execution_count": null,
   "metadata": {},
   "outputs": [],
   "source": []
  }
 ],
 "metadata": {
  "kernelspec": {
   "display_name": "base",
   "language": "python",
   "name": "python3"
  },
  "language_info": {
   "codemirror_mode": {
    "name": "ipython",
    "version": 3
   },
   "file_extension": ".py",
   "mimetype": "text/x-python",
   "name": "python",
   "nbconvert_exporter": "python",
   "pygments_lexer": "ipython3",
   "version": "3.12.4"
  }
 },
 "nbformat": 4,
 "nbformat_minor": 2
}
